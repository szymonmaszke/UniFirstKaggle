{
 "cells": [
  {
   "cell_type": "markdown",
   "metadata": {},
   "source": [
    "# Data preprocessing\n",
    "\n",
    "## Baseline model\n",
    "\n",
    "For the baseline I have chosen `Logistic Regression`, `Random Forest` with `100 estimators` and simple `Neural Network` with two hidden layers and early stopping from [scikit-learn](https://scikit-learn.org/stable/).\n",
    "\n",
    "Each uses 5-fold cross-validation, this function will act as a rule of thumb for feature engineering coming ahead."
   ]
  },
  {
   "cell_type": "code",
   "execution_count": 1,
   "metadata": {},
   "outputs": [
    {
     "name": "stdout",
     "output_type": "stream",
     "text": [
      "Downloading data to: ../input\n",
      "Warning: Your Kaggle API key is readable by other users on this system! To fix this, you can run 'chmod 600 /home/vyz/.kaggle/kaggle.json'\n",
      "test_data.csv.zip: Skipping, found more recently modified local copy (use --force to force download)\n",
      "train_data.csv.zip: Skipping, found more recently modified local copy (use --force to force download)\n",
      "train_labels.csv: Skipping, found more recently modified local copy (use --force to force download)\n",
      "sample_submission.csv: Skipping, found more recently modified local copy (use --force to force download)\n",
      "/home/vyz/projects/Kaggle1NN2019/src\n",
      "Script ran successfully"
     ]
    }
   ],
   "source": [
    "import pathlib\n",
    "\n",
    "# Where data will be stored if not present\n",
    "DATA_PATH = \"../input\"\n",
    "! ./utilities/download_data.sh \"$DATA_PATH\"\n",
    "\n",
    "# Results from analysis should already be obtained\n",
    "ANALYSIS_PATH = pathlib.Path(\"../analysis\")\n",
    "# Where results of analysis are/will be stored\n",
    "PREPROCESSING_PATH = pathlib.Path(\"../preprocessing\")\n",
    "\n",
    "PREPROCESSING_PATH.mkdir(parents=True, exist_ok=True)"
   ]
  },
  {
   "cell_type": "code",
   "execution_count": 2,
   "metadata": {},
   "outputs": [],
   "source": [
    "import matplotlib.pyplot as plt\n",
    "import seaborn as sns\n",
    "\n",
    "import pandas as pd\n",
    "import numpy as np\n",
    "\n",
    "from utilities.general import train_data, test_data, random_seed\n",
    "\n",
    "# Seed used by all transformations\n",
    "SEED = random_seed()\n",
    "\n",
    "X, y = train_data(pathlib.Path(DATA_PATH))"
   ]
  },
  {
   "cell_type": "markdown",
   "metadata": {},
   "source": [
    "## Data scaling\n",
    "\n",
    "Below some scaling methods are presented. Each is tested using three algorithms with fixed seed so the experiments at least resemble reproducibility.\n",
    "\n",
    "No substanial improvement has been reached with any widely applicable schema. Usually accuracy across three different classifiers dropped (especially in the case of neural networks).\n",
    "\n",
    "Only sample-wise normalization yields approximately the same results as the original data, which means this approach could be very well a dead-end."
   ]
  },
  {
   "cell_type": "code",
   "execution_count": 3,
   "metadata": {},
   "outputs": [
    {
     "name": "stderr",
     "output_type": "stream",
     "text": [
      "Results stored, retrieving...\n"
     ]
    },
    {
     "data": {
      "text/html": [
       "<div>\n",
       "<style scoped>\n",
       "    .dataframe tbody tr th:only-of-type {\n",
       "        vertical-align: middle;\n",
       "    }\n",
       "\n",
       "    .dataframe tbody tr th {\n",
       "        vertical-align: top;\n",
       "    }\n",
       "\n",
       "    .dataframe thead th {\n",
       "        text-align: right;\n",
       "    }\n",
       "</style>\n",
       "<table border=\"1\" class=\"dataframe\">\n",
       "  <thead>\n",
       "    <tr style=\"text-align: right;\">\n",
       "      <th></th>\n",
       "      <th>LR</th>\n",
       "      <th>RF</th>\n",
       "      <th>NN</th>\n",
       "    </tr>\n",
       "  </thead>\n",
       "  <tbody>\n",
       "    <tr>\n",
       "      <th>0</th>\n",
       "      <td>0.769889</td>\n",
       "      <td>0.802702</td>\n",
       "      <td>0.842481</td>\n",
       "    </tr>\n",
       "    <tr>\n",
       "      <th>1</th>\n",
       "      <td>0.765525</td>\n",
       "      <td>0.796240</td>\n",
       "      <td>0.835347</td>\n",
       "    </tr>\n",
       "    <tr>\n",
       "      <th>2</th>\n",
       "      <td>0.776015</td>\n",
       "      <td>0.806730</td>\n",
       "      <td>0.838704</td>\n",
       "    </tr>\n",
       "    <tr>\n",
       "      <th>3</th>\n",
       "      <td>0.772659</td>\n",
       "      <td>0.802199</td>\n",
       "      <td>0.842313</td>\n",
       "    </tr>\n",
       "    <tr>\n",
       "      <th>4</th>\n",
       "      <td>0.770309</td>\n",
       "      <td>0.803122</td>\n",
       "      <td>0.840718</td>\n",
       "    </tr>\n",
       "  </tbody>\n",
       "</table>\n",
       "</div>"
      ],
      "text/plain": [
       "         LR        RF        NN\n",
       "0  0.769889  0.802702  0.842481\n",
       "1  0.765525  0.796240  0.835347\n",
       "2  0.776015  0.806730  0.838704\n",
       "3  0.772659  0.802199  0.842313\n",
       "4  0.770309  0.803122  0.840718"
      ]
     },
     "execution_count": 3,
     "metadata": {},
     "output_type": "execute_result"
    }
   ],
   "source": [
    "from utilities.baseline import baselines\n",
    "\n",
    "baselines(\n",
    "    PREPROCESSING_PATH / pathlib.Path(\"initial_baseline.csv\"),\n",
    "    X,\n",
    "    y,\n",
    "    cv=5,\n",
    "    random_state=SEED,\n",
    ")"
   ]
  },
  {
   "cell_type": "code",
   "execution_count": 4,
   "metadata": {},
   "outputs": [
    {
     "name": "stderr",
     "output_type": "stream",
     "text": [
      "Results stored, retrieving...\n"
     ]
    },
    {
     "data": {
      "text/html": [
       "<div>\n",
       "<style scoped>\n",
       "    .dataframe tbody tr th:only-of-type {\n",
       "        vertical-align: middle;\n",
       "    }\n",
       "\n",
       "    .dataframe tbody tr th {\n",
       "        vertical-align: top;\n",
       "    }\n",
       "\n",
       "    .dataframe thead th {\n",
       "        text-align: right;\n",
       "    }\n",
       "</style>\n",
       "<table border=\"1\" class=\"dataframe\">\n",
       "  <thead>\n",
       "    <tr style=\"text-align: right;\">\n",
       "      <th></th>\n",
       "      <th>LR</th>\n",
       "      <th>RF</th>\n",
       "      <th>NN</th>\n",
       "    </tr>\n",
       "  </thead>\n",
       "  <tbody>\n",
       "    <tr>\n",
       "      <th>0</th>\n",
       "      <td>0.769889</td>\n",
       "      <td>0.802702</td>\n",
       "      <td>0.811934</td>\n",
       "    </tr>\n",
       "    <tr>\n",
       "      <th>1</th>\n",
       "      <td>0.764938</td>\n",
       "      <td>0.796240</td>\n",
       "      <td>0.807570</td>\n",
       "    </tr>\n",
       "    <tr>\n",
       "      <th>2</th>\n",
       "      <td>0.774924</td>\n",
       "      <td>0.806898</td>\n",
       "      <td>0.803541</td>\n",
       "    </tr>\n",
       "    <tr>\n",
       "      <th>3</th>\n",
       "      <td>0.771819</td>\n",
       "      <td>0.802283</td>\n",
       "      <td>0.814535</td>\n",
       "    </tr>\n",
       "    <tr>\n",
       "      <th>4</th>\n",
       "      <td>0.769050</td>\n",
       "      <td>0.803206</td>\n",
       "      <td>0.809584</td>\n",
       "    </tr>\n",
       "  </tbody>\n",
       "</table>\n",
       "</div>"
      ],
      "text/plain": [
       "         LR        RF        NN\n",
       "0  0.769889  0.802702  0.811934\n",
       "1  0.764938  0.796240  0.807570\n",
       "2  0.774924  0.806898  0.803541\n",
       "3  0.771819  0.802283  0.814535\n",
       "4  0.769050  0.803206  0.809584"
      ]
     },
     "execution_count": 4,
     "metadata": {},
     "output_type": "execute_result"
    }
   ],
   "source": [
    "from sklearn.preprocessing import scale\n",
    "\n",
    "X_standardized = scale(X)\n",
    "\n",
    "baselines(\n",
    "    PREPROCESSING_PATH / pathlib.Path(\"standardized_baseline.csv\"),\n",
    "    X_standardized,\n",
    "    y,\n",
    "    cv=5,\n",
    "    random_state=SEED,\n",
    ")"
   ]
  },
  {
   "cell_type": "code",
   "execution_count": 5,
   "metadata": {},
   "outputs": [
    {
     "name": "stderr",
     "output_type": "stream",
     "text": [
      "Results stored, retrieving...\n"
     ]
    },
    {
     "data": {
      "text/html": [
       "<div>\n",
       "<style scoped>\n",
       "    .dataframe tbody tr th:only-of-type {\n",
       "        vertical-align: middle;\n",
       "    }\n",
       "\n",
       "    .dataframe tbody tr th {\n",
       "        vertical-align: top;\n",
       "    }\n",
       "\n",
       "    .dataframe thead th {\n",
       "        text-align: right;\n",
       "    }\n",
       "</style>\n",
       "<table border=\"1\" class=\"dataframe\">\n",
       "  <thead>\n",
       "    <tr style=\"text-align: right;\">\n",
       "      <th></th>\n",
       "      <th>LR</th>\n",
       "      <th>RF</th>\n",
       "      <th>NN</th>\n",
       "    </tr>\n",
       "  </thead>\n",
       "  <tbody>\n",
       "    <tr>\n",
       "      <th>0</th>\n",
       "      <td>0.767791</td>\n",
       "      <td>0.802702</td>\n",
       "      <td>0.824773</td>\n",
       "    </tr>\n",
       "    <tr>\n",
       "      <th>1</th>\n",
       "      <td>0.763511</td>\n",
       "      <td>0.796324</td>\n",
       "      <td>0.822088</td>\n",
       "    </tr>\n",
       "    <tr>\n",
       "      <th>2</th>\n",
       "      <td>0.772659</td>\n",
       "      <td>0.806730</td>\n",
       "      <td>0.831067</td>\n",
       "    </tr>\n",
       "    <tr>\n",
       "      <th>3</th>\n",
       "      <td>0.770057</td>\n",
       "      <td>0.802199</td>\n",
       "      <td>0.827878</td>\n",
       "    </tr>\n",
       "    <tr>\n",
       "      <th>4</th>\n",
       "      <td>0.767036</td>\n",
       "      <td>0.803122</td>\n",
       "      <td>0.825277</td>\n",
       "    </tr>\n",
       "  </tbody>\n",
       "</table>\n",
       "</div>"
      ],
      "text/plain": [
       "         LR        RF        NN\n",
       "0  0.767791  0.802702  0.824773\n",
       "1  0.763511  0.796324  0.822088\n",
       "2  0.772659  0.806730  0.831067\n",
       "3  0.770057  0.802199  0.827878\n",
       "4  0.767036  0.803122  0.825277"
      ]
     },
     "execution_count": 5,
     "metadata": {},
     "output_type": "execute_result"
    }
   ],
   "source": [
    "from sklearn.preprocessing import MinMaxScaler\n",
    "\n",
    "X_scaled = MinMaxScaler(feature_range=(-1, 1)).fit_transform(X)\n",
    "\n",
    "baselines(\n",
    "    PREPROCESSING_PATH / pathlib.Path(\"scaled_baseline.csv\"),\n",
    "    X_scaled,\n",
    "    y,\n",
    "    cv=5,\n",
    "    random_state=SEED,\n",
    ")"
   ]
  },
  {
   "cell_type": "code",
   "execution_count": 6,
   "metadata": {},
   "outputs": [
    {
     "name": "stderr",
     "output_type": "stream",
     "text": [
      "Results stored, retrieving...\n"
     ]
    },
    {
     "data": {
      "text/html": [
       "<div>\n",
       "<style scoped>\n",
       "    .dataframe tbody tr th:only-of-type {\n",
       "        vertical-align: middle;\n",
       "    }\n",
       "\n",
       "    .dataframe tbody tr th {\n",
       "        vertical-align: top;\n",
       "    }\n",
       "\n",
       "    .dataframe thead th {\n",
       "        text-align: right;\n",
       "    }\n",
       "</style>\n",
       "<table border=\"1\" class=\"dataframe\">\n",
       "  <thead>\n",
       "    <tr style=\"text-align: right;\">\n",
       "      <th></th>\n",
       "      <th>LR</th>\n",
       "      <th>RF</th>\n",
       "      <th>NN</th>\n",
       "    </tr>\n",
       "  </thead>\n",
       "  <tbody>\n",
       "    <tr>\n",
       "      <th>0</th>\n",
       "      <td>0.759147</td>\n",
       "      <td>0.800688</td>\n",
       "      <td>0.841474</td>\n",
       "    </tr>\n",
       "    <tr>\n",
       "      <th>1</th>\n",
       "      <td>0.751091</td>\n",
       "      <td>0.793303</td>\n",
       "      <td>0.831403</td>\n",
       "    </tr>\n",
       "    <tr>\n",
       "      <th>2</th>\n",
       "      <td>0.759231</td>\n",
       "      <td>0.805891</td>\n",
       "      <td>0.844579</td>\n",
       "    </tr>\n",
       "    <tr>\n",
       "      <th>3</th>\n",
       "      <td>0.762504</td>\n",
       "      <td>0.800352</td>\n",
       "      <td>0.843404</td>\n",
       "    </tr>\n",
       "    <tr>\n",
       "      <th>4</th>\n",
       "      <td>0.759147</td>\n",
       "      <td>0.799094</td>\n",
       "      <td>0.836774</td>\n",
       "    </tr>\n",
       "  </tbody>\n",
       "</table>\n",
       "</div>"
      ],
      "text/plain": [
       "         LR        RF        NN\n",
       "0  0.759147  0.800688  0.841474\n",
       "1  0.751091  0.793303  0.831403\n",
       "2  0.759231  0.805891  0.844579\n",
       "3  0.762504  0.800352  0.843404\n",
       "4  0.759147  0.799094  0.836774"
      ]
     },
     "execution_count": 6,
     "metadata": {},
     "output_type": "execute_result"
    }
   ],
   "source": [
    "from sklearn.preprocessing import normalize\n",
    "\n",
    "X_normalized = normalize(X)\n",
    "\n",
    "baselines(\n",
    "    PREPROCESSING_PATH / pathlib.Path(\"normalized_baseline.csv\"),\n",
    "    X_normalized,\n",
    "    y,\n",
    "    cv=5,\n",
    "    random_state=SEED,\n",
    ")"
   ]
  },
  {
   "cell_type": "markdown",
   "metadata": {},
   "source": [
    "Interestingly, in `2/5` folds predictions are a little better using this normalization scheme, while the others are not far apart. \n",
    "\n",
    "It might be beneficial to combine those two data representations when ensembling multiple methods in order to increase variance between different predictions, though it might be computationally wasteful to check it.\n",
    "\n",
    "Other schemes (and even power transform) and their results are presented below.\n",
    "It seems no normalization really helps in this case (though I'm unable to say anything definitely as I'm not checking it on the model-to-model basis)."
   ]
  },
  {
   "cell_type": "code",
   "execution_count": 7,
   "metadata": {},
   "outputs": [
    {
     "name": "stderr",
     "output_type": "stream",
     "text": [
      "Results stored, retrieving...\n"
     ]
    },
    {
     "data": {
      "text/html": [
       "<div>\n",
       "<style scoped>\n",
       "    .dataframe tbody tr th:only-of-type {\n",
       "        vertical-align: middle;\n",
       "    }\n",
       "\n",
       "    .dataframe tbody tr th {\n",
       "        vertical-align: top;\n",
       "    }\n",
       "\n",
       "    .dataframe thead th {\n",
       "        text-align: right;\n",
       "    }\n",
       "</style>\n",
       "<table border=\"1\" class=\"dataframe\">\n",
       "  <thead>\n",
       "    <tr style=\"text-align: right;\">\n",
       "      <th></th>\n",
       "      <th>LR</th>\n",
       "      <th>RF</th>\n",
       "      <th>NN</th>\n",
       "    </tr>\n",
       "  </thead>\n",
       "  <tbody>\n",
       "    <tr>\n",
       "      <th>0</th>\n",
       "      <td>0.711732</td>\n",
       "      <td>0.802534</td>\n",
       "      <td>0.811682</td>\n",
       "    </tr>\n",
       "    <tr>\n",
       "      <th>1</th>\n",
       "      <td>0.708291</td>\n",
       "      <td>0.796240</td>\n",
       "      <td>0.809332</td>\n",
       "    </tr>\n",
       "    <tr>\n",
       "      <th>2</th>\n",
       "      <td>0.719285</td>\n",
       "      <td>0.808409</td>\n",
       "      <td>0.812437</td>\n",
       "    </tr>\n",
       "    <tr>\n",
       "      <th>3</th>\n",
       "      <td>0.722558</td>\n",
       "      <td>0.799261</td>\n",
       "      <td>0.814283</td>\n",
       "    </tr>\n",
       "    <tr>\n",
       "      <th>4</th>\n",
       "      <td>0.720879</td>\n",
       "      <td>0.801863</td>\n",
       "      <td>0.813948</td>\n",
       "    </tr>\n",
       "  </tbody>\n",
       "</table>\n",
       "</div>"
      ],
      "text/plain": [
       "         LR        RF        NN\n",
       "0  0.711732  0.802534  0.811682\n",
       "1  0.708291  0.796240  0.809332\n",
       "2  0.719285  0.808409  0.812437\n",
       "3  0.722558  0.799261  0.814283\n",
       "4  0.720879  0.801863  0.813948"
      ]
     },
     "execution_count": 7,
     "metadata": {},
     "output_type": "execute_result"
    }
   ],
   "source": [
    "from sklearn.preprocessing import normalize\n",
    "\n",
    "X_normalized = normalize(X, axis=0)\n",
    "\n",
    "baselines(\n",
    "    PREPROCESSING_PATH / pathlib.Path(\"normalized_features_baseline.csv\"),\n",
    "    X_normalized,\n",
    "    y,\n",
    "    cv=5,\n",
    "    random_state=SEED,\n",
    ")"
   ]
  },
  {
   "cell_type": "code",
   "execution_count": 8,
   "metadata": {},
   "outputs": [
    {
     "name": "stderr",
     "output_type": "stream",
     "text": [
      "Results stored, retrieving...\n"
     ]
    },
    {
     "data": {
      "text/html": [
       "<div>\n",
       "<style scoped>\n",
       "    .dataframe tbody tr th:only-of-type {\n",
       "        vertical-align: middle;\n",
       "    }\n",
       "\n",
       "    .dataframe tbody tr th {\n",
       "        vertical-align: top;\n",
       "    }\n",
       "\n",
       "    .dataframe thead th {\n",
       "        text-align: right;\n",
       "    }\n",
       "</style>\n",
       "<table border=\"1\" class=\"dataframe\">\n",
       "  <thead>\n",
       "    <tr style=\"text-align: right;\">\n",
       "      <th></th>\n",
       "      <th>LR</th>\n",
       "      <th>RF</th>\n",
       "      <th>NN</th>\n",
       "    </tr>\n",
       "  </thead>\n",
       "  <tbody>\n",
       "    <tr>\n",
       "      <th>0</th>\n",
       "      <td>0.704179</td>\n",
       "      <td>0.798926</td>\n",
       "      <td>0.822340</td>\n",
       "    </tr>\n",
       "    <tr>\n",
       "      <th>1</th>\n",
       "      <td>0.698640</td>\n",
       "      <td>0.793387</td>\n",
       "      <td>0.826620</td>\n",
       "    </tr>\n",
       "    <tr>\n",
       "      <th>2</th>\n",
       "      <td>0.706361</td>\n",
       "      <td>0.804884</td>\n",
       "      <td>0.831319</td>\n",
       "    </tr>\n",
       "    <tr>\n",
       "      <th>3</th>\n",
       "      <td>0.705774</td>\n",
       "      <td>0.801779</td>\n",
       "      <td>0.829893</td>\n",
       "    </tr>\n",
       "    <tr>\n",
       "      <th>4</th>\n",
       "      <td>0.711564</td>\n",
       "      <td>0.798758</td>\n",
       "      <td>0.827627</td>\n",
       "    </tr>\n",
       "  </tbody>\n",
       "</table>\n",
       "</div>"
      ],
      "text/plain": [
       "         LR        RF        NN\n",
       "0  0.704179  0.798926  0.822340\n",
       "1  0.698640  0.793387  0.826620\n",
       "2  0.706361  0.804884  0.831319\n",
       "3  0.705774  0.801779  0.829893\n",
       "4  0.711564  0.798758  0.827627"
      ]
     },
     "execution_count": 8,
     "metadata": {},
     "output_type": "execute_result"
    }
   ],
   "source": [
    "from sklearn.preprocessing import normalize\n",
    "\n",
    "X_normalized = normalize(X, norm=\"l1\")\n",
    "\n",
    "baselines(\n",
    "    PREPROCESSING_PATH / pathlib.Path(\"l1_normalized_baseline.csv\"),\n",
    "    X_normalized,\n",
    "    y,\n",
    "    cv=5,\n",
    "    random_state=SEED,\n",
    ")"
   ]
  },
  {
   "cell_type": "code",
   "execution_count": 9,
   "metadata": {},
   "outputs": [
    {
     "name": "stderr",
     "output_type": "stream",
     "text": [
      "Results stored, retrieving...\n"
     ]
    },
    {
     "data": {
      "text/html": [
       "<div>\n",
       "<style scoped>\n",
       "    .dataframe tbody tr th:only-of-type {\n",
       "        vertical-align: middle;\n",
       "    }\n",
       "\n",
       "    .dataframe tbody tr th {\n",
       "        vertical-align: top;\n",
       "    }\n",
       "\n",
       "    .dataframe thead th {\n",
       "        text-align: right;\n",
       "    }\n",
       "</style>\n",
       "<table border=\"1\" class=\"dataframe\">\n",
       "  <thead>\n",
       "    <tr style=\"text-align: right;\">\n",
       "      <th></th>\n",
       "      <th>LR</th>\n",
       "      <th>RF</th>\n",
       "      <th>NN</th>\n",
       "    </tr>\n",
       "  </thead>\n",
       "  <tbody>\n",
       "    <tr>\n",
       "      <th>0</th>\n",
       "      <td>0.093740</td>\n",
       "      <td>0.796912</td>\n",
       "      <td>0.093740</td>\n",
       "    </tr>\n",
       "    <tr>\n",
       "      <th>1</th>\n",
       "      <td>0.095838</td>\n",
       "      <td>0.790702</td>\n",
       "      <td>0.099698</td>\n",
       "    </tr>\n",
       "    <tr>\n",
       "      <th>2</th>\n",
       "      <td>0.097348</td>\n",
       "      <td>0.798003</td>\n",
       "      <td>0.101292</td>\n",
       "    </tr>\n",
       "    <tr>\n",
       "      <th>3</th>\n",
       "      <td>0.096845</td>\n",
       "      <td>0.793387</td>\n",
       "      <td>0.096845</td>\n",
       "    </tr>\n",
       "    <tr>\n",
       "      <th>4</th>\n",
       "      <td>0.096005</td>\n",
       "      <td>0.793807</td>\n",
       "      <td>0.197214</td>\n",
       "    </tr>\n",
       "  </tbody>\n",
       "</table>\n",
       "</div>"
      ],
      "text/plain": [
       "         LR        RF        NN\n",
       "0  0.093740  0.796912  0.093740\n",
       "1  0.095838  0.790702  0.099698\n",
       "2  0.097348  0.798003  0.101292\n",
       "3  0.096845  0.793387  0.096845\n",
       "4  0.096005  0.793807  0.197214"
      ]
     },
     "execution_count": 9,
     "metadata": {},
     "output_type": "execute_result"
    }
   ],
   "source": [
    "from sklearn.preprocessing import normalize\n",
    "\n",
    "X_normalized = normalize(X, norm=\"l1\", axis=0)\n",
    "\n",
    "baselines(\n",
    "    PREPROCESSING_PATH / pathlib.Path(\"l1_normalized_features_baseline.csv\"),\n",
    "    X_normalized,\n",
    "    y,\n",
    "    cv=5,\n",
    "    random_state=SEED,\n",
    ")"
   ]
  },
  {
   "cell_type": "code",
   "execution_count": 10,
   "metadata": {},
   "outputs": [],
   "source": [
    "from sklearn.preprocessing import PowerTransformer\n",
    "\n",
    "X_unskewed = PowerTransformer().fit_transform(X)"
   ]
  },
  {
   "cell_type": "code",
   "execution_count": 11,
   "metadata": {},
   "outputs": [
    {
     "name": "stderr",
     "output_type": "stream",
     "text": [
      "Results stored, retrieving...\n"
     ]
    },
    {
     "data": {
      "text/html": [
       "<div>\n",
       "<style scoped>\n",
       "    .dataframe tbody tr th:only-of-type {\n",
       "        vertical-align: middle;\n",
       "    }\n",
       "\n",
       "    .dataframe tbody tr th {\n",
       "        vertical-align: top;\n",
       "    }\n",
       "\n",
       "    .dataframe thead th {\n",
       "        text-align: right;\n",
       "    }\n",
       "</style>\n",
       "<table border=\"1\" class=\"dataframe\">\n",
       "  <thead>\n",
       "    <tr style=\"text-align: right;\">\n",
       "      <th></th>\n",
       "      <th>LR</th>\n",
       "      <th>RF</th>\n",
       "      <th>NN</th>\n",
       "    </tr>\n",
       "  </thead>\n",
       "  <tbody>\n",
       "    <tr>\n",
       "      <th>0</th>\n",
       "      <td>0.769134</td>\n",
       "      <td>0.802786</td>\n",
       "      <td>0.808241</td>\n",
       "    </tr>\n",
       "    <tr>\n",
       "      <th>1</th>\n",
       "      <td>0.763595</td>\n",
       "      <td>0.796324</td>\n",
       "      <td>0.808577</td>\n",
       "    </tr>\n",
       "    <tr>\n",
       "      <th>2</th>\n",
       "      <td>0.774253</td>\n",
       "      <td>0.806898</td>\n",
       "      <td>0.802618</td>\n",
       "    </tr>\n",
       "    <tr>\n",
       "      <th>3</th>\n",
       "      <td>0.771400</td>\n",
       "      <td>0.802031</td>\n",
       "      <td>0.813612</td>\n",
       "    </tr>\n",
       "    <tr>\n",
       "      <th>4</th>\n",
       "      <td>0.770309</td>\n",
       "      <td>0.803206</td>\n",
       "      <td>0.813108</td>\n",
       "    </tr>\n",
       "  </tbody>\n",
       "</table>\n",
       "</div>"
      ],
      "text/plain": [
       "         LR        RF        NN\n",
       "0  0.769134  0.802786  0.808241\n",
       "1  0.763595  0.796324  0.808577\n",
       "2  0.774253  0.806898  0.802618\n",
       "3  0.771400  0.802031  0.813612\n",
       "4  0.770309  0.803206  0.813108"
      ]
     },
     "execution_count": 11,
     "metadata": {},
     "output_type": "execute_result"
    }
   ],
   "source": [
    "baselines(\n",
    "    PREPROCESSING_PATH / pathlib.Path(\"unskewed_baseline.csv\"),\n",
    "    X_unskewed,\n",
    "    y,\n",
    "    cv=5,\n",
    "    random_state=SEED,\n",
    ")"
   ]
  },
  {
   "cell_type": "markdown",
   "metadata": {},
   "source": [
    "## Remove low variance\n",
    "\n",
    "Removing features with low variance might remove noise. It might be especially helpful in the case of artificially generated data (were some columns harm model's performance and clutter feature space). Below, features with variance lower than `1%` are removed:"
   ]
  },
  {
   "cell_type": "code",
   "execution_count": 12,
   "metadata": {},
   "outputs": [
    {
     "name": "stdout",
     "output_type": "stream",
     "text": [
      "Feature count after removing low variance 288\n"
     ]
    },
    {
     "name": "stderr",
     "output_type": "stream",
     "text": [
      "Results stored, retrieving...\n"
     ]
    },
    {
     "data": {
      "text/html": [
       "<div>\n",
       "<style scoped>\n",
       "    .dataframe tbody tr th:only-of-type {\n",
       "        vertical-align: middle;\n",
       "    }\n",
       "\n",
       "    .dataframe tbody tr th {\n",
       "        vertical-align: top;\n",
       "    }\n",
       "\n",
       "    .dataframe thead th {\n",
       "        text-align: right;\n",
       "    }\n",
       "</style>\n",
       "<table border=\"1\" class=\"dataframe\">\n",
       "  <thead>\n",
       "    <tr style=\"text-align: right;\">\n",
       "      <th></th>\n",
       "      <th>LR</th>\n",
       "      <th>RF</th>\n",
       "      <th>NN</th>\n",
       "    </tr>\n",
       "  </thead>\n",
       "  <tbody>\n",
       "    <tr>\n",
       "      <th>0</th>\n",
       "      <td>0.770141</td>\n",
       "      <td>0.804632</td>\n",
       "      <td>0.843991</td>\n",
       "    </tr>\n",
       "    <tr>\n",
       "      <th>1</th>\n",
       "      <td>0.764434</td>\n",
       "      <td>0.797163</td>\n",
       "      <td>0.838285</td>\n",
       "    </tr>\n",
       "    <tr>\n",
       "      <th>2</th>\n",
       "      <td>0.777274</td>\n",
       "      <td>0.808577</td>\n",
       "      <td>0.837613</td>\n",
       "    </tr>\n",
       "    <tr>\n",
       "      <th>3</th>\n",
       "      <td>0.774253</td>\n",
       "      <td>0.805052</td>\n",
       "      <td>0.840970</td>\n",
       "    </tr>\n",
       "    <tr>\n",
       "      <th>4</th>\n",
       "      <td>0.772323</td>\n",
       "      <td>0.806730</td>\n",
       "      <td>0.840886</td>\n",
       "    </tr>\n",
       "  </tbody>\n",
       "</table>\n",
       "</div>"
      ],
      "text/plain": [
       "         LR        RF        NN\n",
       "0  0.770141  0.804632  0.843991\n",
       "1  0.764434  0.797163  0.838285\n",
       "2  0.777274  0.808577  0.837613\n",
       "3  0.774253  0.805052  0.840970\n",
       "4  0.772323  0.806730  0.840886"
      ]
     },
     "execution_count": 12,
     "metadata": {},
     "output_type": "execute_result"
    }
   ],
   "source": [
    "from sklearn.feature_selection import VarianceThreshold\n",
    "\n",
    "threshold = VarianceThreshold(0.01)\n",
    "X_thresholded = threshold.fit_transform(X)\n",
    "\n",
    "print(f\"Feature count after removing low variance {X_thresholded.shape[1]}\")\n",
    "\n",
    "baselines(\n",
    "    PREPROCESSING_PATH / pathlib.Path(\"no_low_variance_baseline.csv\"),\n",
    "    X_thresholded,\n",
    "    y,\n",
    "    cv=5,\n",
    "    random_state=SEED,\n",
    ")"
   ]
  },
  {
   "cell_type": "markdown",
   "metadata": {},
   "source": [
    "Apparently this scheme reduces workload and makes predictions less varying across folds, it's probably worth to keep this preprocessing scheme.\n",
    "\n",
    "You can find different `thresholds` below and their effects:"
   ]
  },
  {
   "cell_type": "code",
   "execution_count": 13,
   "metadata": {},
   "outputs": [
    {
     "name": "stdout",
     "output_type": "stream",
     "text": [
      "Feature count after removing low variance 56\n"
     ]
    },
    {
     "name": "stderr",
     "output_type": "stream",
     "text": [
      "Results stored, retrieving...\n"
     ]
    },
    {
     "data": {
      "text/html": [
       "<div>\n",
       "<style scoped>\n",
       "    .dataframe tbody tr th:only-of-type {\n",
       "        vertical-align: middle;\n",
       "    }\n",
       "\n",
       "    .dataframe tbody tr th {\n",
       "        vertical-align: top;\n",
       "    }\n",
       "\n",
       "    .dataframe thead th {\n",
       "        text-align: right;\n",
       "    }\n",
       "</style>\n",
       "<table border=\"1\" class=\"dataframe\">\n",
       "  <thead>\n",
       "    <tr style=\"text-align: right;\">\n",
       "      <th></th>\n",
       "      <th>LR</th>\n",
       "      <th>RF</th>\n",
       "      <th>NN</th>\n",
       "    </tr>\n",
       "  </thead>\n",
       "  <tbody>\n",
       "    <tr>\n",
       "      <th>0</th>\n",
       "      <td>0.756378</td>\n",
       "      <td>0.817976</td>\n",
       "      <td>0.847684</td>\n",
       "    </tr>\n",
       "    <tr>\n",
       "      <th>1</th>\n",
       "      <td>0.753776</td>\n",
       "      <td>0.809164</td>\n",
       "      <td>0.841306</td>\n",
       "    </tr>\n",
       "    <tr>\n",
       "      <th>2</th>\n",
       "      <td>0.758644</td>\n",
       "      <td>0.819319</td>\n",
       "      <td>0.844327</td>\n",
       "    </tr>\n",
       "    <tr>\n",
       "      <th>3</th>\n",
       "      <td>0.762504</td>\n",
       "      <td>0.816046</td>\n",
       "      <td>0.848523</td>\n",
       "    </tr>\n",
       "    <tr>\n",
       "      <th>4</th>\n",
       "      <td>0.756294</td>\n",
       "      <td>0.813780</td>\n",
       "      <td>0.841641</td>\n",
       "    </tr>\n",
       "  </tbody>\n",
       "</table>\n",
       "</div>"
      ],
      "text/plain": [
       "         LR        RF        NN\n",
       "0  0.756378  0.817976  0.847684\n",
       "1  0.753776  0.809164  0.841306\n",
       "2  0.758644  0.819319  0.844327\n",
       "3  0.762504  0.816046  0.848523\n",
       "4  0.756294  0.813780  0.841641"
      ]
     },
     "execution_count": 13,
     "metadata": {},
     "output_type": "execute_result"
    }
   ],
   "source": [
    "threshold = VarianceThreshold(0.1)\n",
    "X_thresholded = threshold.fit_transform(X)\n",
    "\n",
    "print(f\"Feature count after removing low variance {X_thresholded.shape[1]}\")\n",
    "\n",
    "baselines(\n",
    "    PREPROCESSING_PATH / pathlib.Path(\"no_medium_variance_baseline.csv\"),\n",
    "    X_thresholded,\n",
    "    y,\n",
    "    cv=5,\n",
    "    random_state=SEED,\n",
    ")"
   ]
  },
  {
   "cell_type": "code",
   "execution_count": 14,
   "metadata": {},
   "outputs": [
    {
     "name": "stdout",
     "output_type": "stream",
     "text": [
      "Feature count after removing low variance 30\n"
     ]
    },
    {
     "name": "stderr",
     "output_type": "stream",
     "text": [
      "Results stored, retrieving...\n"
     ]
    },
    {
     "data": {
      "text/html": [
       "<div>\n",
       "<style scoped>\n",
       "    .dataframe tbody tr th:only-of-type {\n",
       "        vertical-align: middle;\n",
       "    }\n",
       "\n",
       "    .dataframe tbody tr th {\n",
       "        vertical-align: top;\n",
       "    }\n",
       "\n",
       "    .dataframe thead th {\n",
       "        text-align: right;\n",
       "    }\n",
       "</style>\n",
       "<table border=\"1\" class=\"dataframe\">\n",
       "  <thead>\n",
       "    <tr style=\"text-align: right;\">\n",
       "      <th></th>\n",
       "      <th>LR</th>\n",
       "      <th>RF</th>\n",
       "      <th>NN</th>\n",
       "    </tr>\n",
       "  </thead>\n",
       "  <tbody>\n",
       "    <tr>\n",
       "      <th>0</th>\n",
       "      <td>0.739846</td>\n",
       "      <td>0.809248</td>\n",
       "      <td>0.841222</td>\n",
       "    </tr>\n",
       "    <tr>\n",
       "      <th>1</th>\n",
       "      <td>0.734642</td>\n",
       "      <td>0.806730</td>\n",
       "      <td>0.832494</td>\n",
       "    </tr>\n",
       "    <tr>\n",
       "      <th>2</th>\n",
       "      <td>0.741440</td>\n",
       "      <td>0.813025</td>\n",
       "      <td>0.838453</td>\n",
       "    </tr>\n",
       "    <tr>\n",
       "      <th>3</th>\n",
       "      <td>0.746224</td>\n",
       "      <td>0.809248</td>\n",
       "      <td>0.835935</td>\n",
       "    </tr>\n",
       "    <tr>\n",
       "      <th>4</th>\n",
       "      <td>0.743286</td>\n",
       "      <td>0.809248</td>\n",
       "      <td>0.836606</td>\n",
       "    </tr>\n",
       "  </tbody>\n",
       "</table>\n",
       "</div>"
      ],
      "text/plain": [
       "         LR        RF        NN\n",
       "0  0.739846  0.809248  0.841222\n",
       "1  0.734642  0.806730  0.832494\n",
       "2  0.741440  0.813025  0.838453\n",
       "3  0.746224  0.809248  0.835935\n",
       "4  0.743286  0.809248  0.836606"
      ]
     },
     "execution_count": 14,
     "metadata": {},
     "output_type": "execute_result"
    }
   ],
   "source": [
    "threshold = VarianceThreshold(0.2)\n",
    "X_thresholded = threshold.fit_transform(X)\n",
    "\n",
    "print(f\"Feature count after removing low variance {X_thresholded.shape[1]}\")\n",
    "\n",
    "baselines(\n",
    "    PREPROCESSING_PATH / pathlib.Path(\"no_high_variance_baseline.csv\"),\n",
    "    X_thresholded,\n",
    "    y,\n",
    "    cv=5,\n",
    "    random_state=SEED,\n",
    ")"
   ]
  },
  {
   "cell_type": "code",
   "execution_count": 15,
   "metadata": {},
   "outputs": [
    {
     "name": "stdout",
     "output_type": "stream",
     "text": [
      "Feature count after removing low variance 39\n"
     ]
    },
    {
     "name": "stderr",
     "output_type": "stream",
     "text": [
      "Results stored, retrieving...\n"
     ]
    },
    {
     "data": {
      "text/html": [
       "<div>\n",
       "<style scoped>\n",
       "    .dataframe tbody tr th:only-of-type {\n",
       "        vertical-align: middle;\n",
       "    }\n",
       "\n",
       "    .dataframe tbody tr th {\n",
       "        vertical-align: top;\n",
       "    }\n",
       "\n",
       "    .dataframe thead th {\n",
       "        text-align: right;\n",
       "    }\n",
       "</style>\n",
       "<table border=\"1\" class=\"dataframe\">\n",
       "  <thead>\n",
       "    <tr style=\"text-align: right;\">\n",
       "      <th></th>\n",
       "      <th>LR</th>\n",
       "      <th>RF</th>\n",
       "      <th>NN</th>\n",
       "    </tr>\n",
       "  </thead>\n",
       "  <tbody>\n",
       "    <tr>\n",
       "      <th>0</th>\n",
       "      <td>0.746056</td>\n",
       "      <td>0.814955</td>\n",
       "      <td>0.840467</td>\n",
       "    </tr>\n",
       "    <tr>\n",
       "      <th>1</th>\n",
       "      <td>0.746643</td>\n",
       "      <td>0.805975</td>\n",
       "      <td>0.837362</td>\n",
       "    </tr>\n",
       "    <tr>\n",
       "      <th>2</th>\n",
       "      <td>0.750839</td>\n",
       "      <td>0.820326</td>\n",
       "      <td>0.841054</td>\n",
       "    </tr>\n",
       "    <tr>\n",
       "      <th>3</th>\n",
       "      <td>0.752937</td>\n",
       "      <td>0.815123</td>\n",
       "      <td>0.845670</td>\n",
       "    </tr>\n",
       "    <tr>\n",
       "      <th>4</th>\n",
       "      <td>0.750587</td>\n",
       "      <td>0.813864</td>\n",
       "      <td>0.840886</td>\n",
       "    </tr>\n",
       "  </tbody>\n",
       "</table>\n",
       "</div>"
      ],
      "text/plain": [
       "         LR        RF        NN\n",
       "0  0.746056  0.814955  0.840467\n",
       "1  0.746643  0.805975  0.837362\n",
       "2  0.750839  0.820326  0.841054\n",
       "3  0.752937  0.815123  0.845670\n",
       "4  0.750587  0.813864  0.840886"
      ]
     },
     "execution_count": 15,
     "metadata": {},
     "output_type": "execute_result"
    }
   ],
   "source": [
    "threshold = VarianceThreshold(0.15)\n",
    "X_thresholded = threshold.fit_transform(X)\n",
    "\n",
    "print(f\"Feature count after removing low variance {X_thresholded.shape[1]}\")\n",
    "\n",
    "baselines(\n",
    "    PREPROCESSING_PATH / pathlib.Path(\"no_next_to_high_variance_baseline.csv\"),\n",
    "    X_thresholded,\n",
    "    y,\n",
    "    cv=5,\n",
    "    random_state=SEED,\n",
    ")"
   ]
  },
  {
   "cell_type": "code",
   "execution_count": 16,
   "metadata": {},
   "outputs": [
    {
     "name": "stdout",
     "output_type": "stream",
     "text": [
      "Feature count after removing low variance 95\n"
     ]
    },
    {
     "name": "stderr",
     "output_type": "stream",
     "text": [
      "Results stored, retrieving...\n"
     ]
    },
    {
     "data": {
      "text/html": [
       "<div>\n",
       "<style scoped>\n",
       "    .dataframe tbody tr th:only-of-type {\n",
       "        vertical-align: middle;\n",
       "    }\n",
       "\n",
       "    .dataframe tbody tr th {\n",
       "        vertical-align: top;\n",
       "    }\n",
       "\n",
       "    .dataframe thead th {\n",
       "        text-align: right;\n",
       "    }\n",
       "</style>\n",
       "<table border=\"1\" class=\"dataframe\">\n",
       "  <thead>\n",
       "    <tr style=\"text-align: right;\">\n",
       "      <th></th>\n",
       "      <th>LR</th>\n",
       "      <th>RF</th>\n",
       "      <th>NN</th>\n",
       "    </tr>\n",
       "  </thead>\n",
       "  <tbody>\n",
       "    <tr>\n",
       "      <th>0</th>\n",
       "      <td>0.765945</td>\n",
       "      <td>0.814451</td>\n",
       "      <td>0.849614</td>\n",
       "    </tr>\n",
       "    <tr>\n",
       "      <th>1</th>\n",
       "      <td>0.761078</td>\n",
       "      <td>0.810926</td>\n",
       "      <td>0.842649</td>\n",
       "    </tr>\n",
       "    <tr>\n",
       "      <th>2</th>\n",
       "      <td>0.769386</td>\n",
       "      <td>0.820913</td>\n",
       "      <td>0.843320</td>\n",
       "    </tr>\n",
       "    <tr>\n",
       "      <th>3</th>\n",
       "      <td>0.771484</td>\n",
       "      <td>0.815206</td>\n",
       "      <td>0.847768</td>\n",
       "    </tr>\n",
       "    <tr>\n",
       "      <th>4</th>\n",
       "      <td>0.767372</td>\n",
       "      <td>0.814955</td>\n",
       "      <td>0.848019</td>\n",
       "    </tr>\n",
       "  </tbody>\n",
       "</table>\n",
       "</div>"
      ],
      "text/plain": [
       "         LR        RF        NN\n",
       "0  0.765945  0.814451  0.849614\n",
       "1  0.761078  0.810926  0.842649\n",
       "2  0.769386  0.820913  0.843320\n",
       "3  0.771484  0.815206  0.847768\n",
       "4  0.767372  0.814955  0.848019"
      ]
     },
     "execution_count": 16,
     "metadata": {},
     "output_type": "execute_result"
    }
   ],
   "source": [
    "threshold = VarianceThreshold(0.05)\n",
    "X_thresholded = threshold.fit_transform(X)\n",
    "\n",
    "print(f\"Feature count after removing low variance {X_thresholded.shape[1]}\")\n",
    "\n",
    "baselines(\n",
    "    PREPROCESSING_PATH / pathlib.Path(\"no_next_to_medium_variance_baseline.csv\"),\n",
    "    X_thresholded,\n",
    "    y,\n",
    "    cv=5,\n",
    "    random_state=SEED,\n",
    ")"
   ]
  },
  {
   "cell_type": "markdown",
   "metadata": {},
   "source": [
    "Threshold around `0.05` seems to bring the best results."
   ]
  },
  {
   "cell_type": "markdown",
   "metadata": {},
   "source": [
    "# Leave only most important traits based on analysis\n",
    "\n",
    "First, let's load data from ANOVA statistical test, mutual information and importance of features according to random forest classifier.\n",
    "\n",
    "This data should be available after previous `analysis` notebook."
   ]
  },
  {
   "cell_type": "code",
   "execution_count": 17,
   "metadata": {},
   "outputs": [
    {
     "name": "stderr",
     "output_type": "stream",
     "text": [
      "Results stored, retrieving...\n",
      "Results stored, retrieving...\n"
     ]
    },
    {
     "data": {
      "text/html": [
       "<div>\n",
       "<style scoped>\n",
       "    .dataframe tbody tr th:only-of-type {\n",
       "        vertical-align: middle;\n",
       "    }\n",
       "\n",
       "    .dataframe tbody tr th {\n",
       "        vertical-align: top;\n",
       "    }\n",
       "\n",
       "    .dataframe thead th {\n",
       "        text-align: right;\n",
       "    }\n",
       "</style>\n",
       "<table border=\"1\" class=\"dataframe\">\n",
       "  <thead>\n",
       "    <tr style=\"text-align: right;\">\n",
       "      <th></th>\n",
       "      <th>importance</th>\n",
       "    </tr>\n",
       "  </thead>\n",
       "  <tbody>\n",
       "    <tr>\n",
       "      <th>1</th>\n",
       "      <td>0.067963</td>\n",
       "    </tr>\n",
       "    <tr>\n",
       "      <th>0</th>\n",
       "      <td>0.047087</td>\n",
       "    </tr>\n",
       "    <tr>\n",
       "      <th>2</th>\n",
       "      <td>0.035552</td>\n",
       "    </tr>\n",
       "    <tr>\n",
       "      <th>7</th>\n",
       "      <td>0.033523</td>\n",
       "    </tr>\n",
       "    <tr>\n",
       "      <th>4</th>\n",
       "      <td>0.028876</td>\n",
       "    </tr>\n",
       "  </tbody>\n",
       "</table>\n",
       "</div>"
      ],
      "text/plain": [
       "   importance\n",
       "1    0.067963\n",
       "0    0.047087\n",
       "2    0.035552\n",
       "7    0.033523\n",
       "4    0.028876"
      ]
     },
     "execution_count": 17,
     "metadata": {},
     "output_type": "execute_result"
    }
   ],
   "source": [
    "from utilities.analysis import rf_feature_importance\n",
    "from utilities.analysis import feature_importance\n",
    "\n",
    "from utilities.analysis import feature_importance\n",
    "\n",
    "feature_importance = feature_importance(\n",
    "    ANALYSIS_PATH / pathlib.Path(\"feature_importance.csv\"), X, y\n",
    ")\n",
    "\n",
    "rf_feature_importance = rf_feature_importance(\n",
    "    ANALYSIS_PATH / pathlib.Path(\"rf_feature_importance.csv\"), X, y, random_state=SEED\n",
    ")"
   ]
  },
  {
   "cell_type": "markdown",
   "metadata": {},
   "source": [
    "Positions from each algorithm will be summed and everything is sorted in the internal function (e.g. best feature has value of `0`, second to best of `1` and so on).\n",
    "\n",
    "Based on those values we will see whether removing some \"unimportant\" features might help:"
   ]
  },
  {
   "cell_type": "code",
   "execution_count": 18,
   "metadata": {},
   "outputs": [],
   "source": [
    "from utilities.preprocessing import get_best_features\n",
    "\n",
    "best_features = get_best_features(feature_importance, rf_feature_importance)"
   ]
  },
  {
   "cell_type": "markdown",
   "metadata": {},
   "source": [
    "Below are some thresholds how many features one should keep and what results it yields:"
   ]
  },
  {
   "cell_type": "code",
   "execution_count": 19,
   "metadata": {},
   "outputs": [
    {
     "name": "stderr",
     "output_type": "stream",
     "text": [
      "Results stored, retrieving...\n"
     ]
    },
    {
     "data": {
      "text/html": [
       "<div>\n",
       "<style scoped>\n",
       "    .dataframe tbody tr th:only-of-type {\n",
       "        vertical-align: middle;\n",
       "    }\n",
       "\n",
       "    .dataframe tbody tr th {\n",
       "        vertical-align: top;\n",
       "    }\n",
       "\n",
       "    .dataframe thead th {\n",
       "        text-align: right;\n",
       "    }\n",
       "</style>\n",
       "<table border=\"1\" class=\"dataframe\">\n",
       "  <thead>\n",
       "    <tr style=\"text-align: right;\">\n",
       "      <th></th>\n",
       "      <th>LR</th>\n",
       "      <th>RF</th>\n",
       "      <th>NN</th>\n",
       "    </tr>\n",
       "  </thead>\n",
       "  <tbody>\n",
       "    <tr>\n",
       "      <th>0</th>\n",
       "      <td>0.755035</td>\n",
       "      <td>0.812101</td>\n",
       "      <td>0.847600</td>\n",
       "    </tr>\n",
       "    <tr>\n",
       "      <th>1</th>\n",
       "      <td>0.751930</td>\n",
       "      <td>0.809919</td>\n",
       "      <td>0.838285</td>\n",
       "    </tr>\n",
       "    <tr>\n",
       "      <th>2</th>\n",
       "      <td>0.759147</td>\n",
       "      <td>0.815542</td>\n",
       "      <td>0.843991</td>\n",
       "    </tr>\n",
       "    <tr>\n",
       "      <th>3</th>\n",
       "      <td>0.761413</td>\n",
       "      <td>0.818228</td>\n",
       "      <td>0.845586</td>\n",
       "    </tr>\n",
       "    <tr>\n",
       "      <th>4</th>\n",
       "      <td>0.757553</td>\n",
       "      <td>0.813192</td>\n",
       "      <td>0.842649</td>\n",
       "    </tr>\n",
       "  </tbody>\n",
       "</table>\n",
       "</div>"
      ],
      "text/plain": [
       "         LR        RF        NN\n",
       "0  0.755035  0.812101  0.847600\n",
       "1  0.751930  0.809919  0.838285\n",
       "2  0.759147  0.815542  0.843991\n",
       "3  0.761413  0.818228  0.845586\n",
       "4  0.757553  0.813192  0.842649"
      ]
     },
     "execution_count": 19,
     "metadata": {},
     "output_type": "execute_result"
    }
   ],
   "source": [
    "from utilities.preprocessing import slice_best_features\n",
    "\n",
    "to_keep = 60\n",
    "\n",
    "baselines(\n",
    "    PREPROCESSING_PATH / pathlib.Path(f\"important_{to_keep}.csv\"),\n",
    "    slice_best_features(X, best_features, to_keep),\n",
    "    y,\n",
    "    cv=5,\n",
    "    random_state=SEED,\n",
    ")"
   ]
  },
  {
   "cell_type": "code",
   "execution_count": 20,
   "metadata": {},
   "outputs": [
    {
     "name": "stderr",
     "output_type": "stream",
     "text": [
      "Results stored, retrieving...\n"
     ]
    },
    {
     "data": {
      "text/html": [
       "<div>\n",
       "<style scoped>\n",
       "    .dataframe tbody tr th:only-of-type {\n",
       "        vertical-align: middle;\n",
       "    }\n",
       "\n",
       "    .dataframe tbody tr th {\n",
       "        vertical-align: top;\n",
       "    }\n",
       "\n",
       "    .dataframe thead th {\n",
       "        text-align: right;\n",
       "    }\n",
       "</style>\n",
       "<table border=\"1\" class=\"dataframe\">\n",
       "  <thead>\n",
       "    <tr style=\"text-align: right;\">\n",
       "      <th></th>\n",
       "      <th>LR</th>\n",
       "      <th>RF</th>\n",
       "      <th>NN</th>\n",
       "    </tr>\n",
       "  </thead>\n",
       "  <tbody>\n",
       "    <tr>\n",
       "      <th>0</th>\n",
       "      <td>0.763595</td>\n",
       "      <td>0.811094</td>\n",
       "      <td>0.845166</td>\n",
       "    </tr>\n",
       "    <tr>\n",
       "      <th>1</th>\n",
       "      <td>0.755791</td>\n",
       "      <td>0.810003</td>\n",
       "      <td>0.842145</td>\n",
       "    </tr>\n",
       "    <tr>\n",
       "      <th>2</th>\n",
       "      <td>0.764267</td>\n",
       "      <td>0.818312</td>\n",
       "      <td>0.848523</td>\n",
       "    </tr>\n",
       "    <tr>\n",
       "      <th>3</th>\n",
       "      <td>0.768295</td>\n",
       "      <td>0.816885</td>\n",
       "      <td>0.849866</td>\n",
       "    </tr>\n",
       "    <tr>\n",
       "      <th>4</th>\n",
       "      <td>0.763427</td>\n",
       "      <td>0.812353</td>\n",
       "      <td>0.847264</td>\n",
       "    </tr>\n",
       "  </tbody>\n",
       "</table>\n",
       "</div>"
      ],
      "text/plain": [
       "         LR        RF        NN\n",
       "0  0.763595  0.811094  0.845166\n",
       "1  0.755791  0.810003  0.842145\n",
       "2  0.764267  0.818312  0.848523\n",
       "3  0.768295  0.816885  0.849866\n",
       "4  0.763427  0.812353  0.847264"
      ]
     },
     "execution_count": 20,
     "metadata": {},
     "output_type": "execute_result"
    }
   ],
   "source": [
    "from utilities.preprocessing import slice_best_features\n",
    "\n",
    "to_keep = 96\n",
    "\n",
    "baselines(\n",
    "    PREPROCESSING_PATH / pathlib.Path(f\"important_{to_keep}.csv\"),\n",
    "    slice_best_features(X, best_features, to_keep),\n",
    "    y,\n",
    "    cv=5,\n",
    "    random_state=SEED,\n",
    ")"
   ]
  },
  {
   "cell_type": "markdown",
   "metadata": {},
   "source": [
    "As it's hard to decide on either I will check all sensible possibilities using function `find_threshold`:"
   ]
  },
  {
   "cell_type": "code",
   "execution_count": 21,
   "metadata": {},
   "outputs": [
    {
     "name": "stderr",
     "output_type": "stream",
     "text": [
      "Results stored, retrieving...\n"
     ]
    },
    {
     "data": {
      "text/html": [
       "<div>\n",
       "<style scoped>\n",
       "    .dataframe tbody tr th:only-of-type {\n",
       "        vertical-align: middle;\n",
       "    }\n",
       "\n",
       "    .dataframe tbody tr th {\n",
       "        vertical-align: top;\n",
       "    }\n",
       "\n",
       "    .dataframe thead th {\n",
       "        text-align: right;\n",
       "    }\n",
       "</style>\n",
       "<table border=\"1\" class=\"dataframe\">\n",
       "  <thead>\n",
       "    <tr style=\"text-align: right;\">\n",
       "      <th></th>\n",
       "      <th>LR</th>\n",
       "      <th>RF</th>\n",
       "      <th>NN</th>\n",
       "    </tr>\n",
       "  </thead>\n",
       "  <tbody>\n",
       "    <tr>\n",
       "      <th>0</th>\n",
       "      <td>0.760322</td>\n",
       "      <td>0.814451</td>\n",
       "      <td>0.847432</td>\n",
       "    </tr>\n",
       "    <tr>\n",
       "      <th>1</th>\n",
       "      <td>0.756294</td>\n",
       "      <td>0.809836</td>\n",
       "      <td>0.839711</td>\n",
       "    </tr>\n",
       "    <tr>\n",
       "      <th>2</th>\n",
       "      <td>0.761245</td>\n",
       "      <td>0.818479</td>\n",
       "      <td>0.841641</td>\n",
       "    </tr>\n",
       "    <tr>\n",
       "      <th>3</th>\n",
       "      <td>0.765777</td>\n",
       "      <td>0.817724</td>\n",
       "      <td>0.847516</td>\n",
       "    </tr>\n",
       "    <tr>\n",
       "      <th>4</th>\n",
       "      <td>0.759651</td>\n",
       "      <td>0.816717</td>\n",
       "      <td>0.845502</td>\n",
       "    </tr>\n",
       "  </tbody>\n",
       "</table>\n",
       "</div>"
      ],
      "text/plain": [
       "         LR        RF        NN\n",
       "0  0.760322  0.814451  0.847432\n",
       "1  0.756294  0.809836  0.839711\n",
       "2  0.761245  0.818479  0.841641\n",
       "3  0.765777  0.817724  0.847516\n",
       "4  0.759651  0.816717  0.845502"
      ]
     },
     "execution_count": 21,
     "metadata": {},
     "output_type": "execute_result"
    }
   ],
   "source": [
    "from utilities.preprocessing import slice_best_features\n",
    "\n",
    "to_keep = 78\n",
    "\n",
    "baselines(\n",
    "    PREPROCESSING_PATH / pathlib.Path(f\"important_{to_keep}.csv\"),\n",
    "    slice_best_features(X, best_features, to_keep),\n",
    "    y,\n",
    "    cv=5,\n",
    "    random_state=SEED,\n",
    ")"
   ]
  },
  {
   "cell_type": "code",
   "execution_count": 22,
   "metadata": {},
   "outputs": [
    {
     "name": "stderr",
     "output_type": "stream",
     "text": [
      "Results stored, retrieving...\n"
     ]
    },
    {
     "data": {
      "text/html": [
       "<div>\n",
       "<style scoped>\n",
       "    .dataframe tbody tr th:only-of-type {\n",
       "        vertical-align: middle;\n",
       "    }\n",
       "\n",
       "    .dataframe tbody tr th {\n",
       "        vertical-align: top;\n",
       "    }\n",
       "\n",
       "    .dataframe thead th {\n",
       "        text-align: right;\n",
       "    }\n",
       "</style>\n",
       "<table border=\"1\" class=\"dataframe\">\n",
       "  <thead>\n",
       "    <tr style=\"text-align: right;\">\n",
       "      <th></th>\n",
       "      <th>LR</th>\n",
       "      <th>RF</th>\n",
       "      <th>NN</th>\n",
       "    </tr>\n",
       "  </thead>\n",
       "  <tbody>\n",
       "    <tr>\n",
       "      <th>0</th>\n",
       "      <td>0.761413</td>\n",
       "      <td>0.814871</td>\n",
       "      <td>0.849950</td>\n",
       "    </tr>\n",
       "    <tr>\n",
       "      <th>1</th>\n",
       "      <td>0.755791</td>\n",
       "      <td>0.807066</td>\n",
       "      <td>0.844243</td>\n",
       "    </tr>\n",
       "    <tr>\n",
       "      <th>2</th>\n",
       "      <td>0.763008</td>\n",
       "      <td>0.819990</td>\n",
       "      <td>0.849782</td>\n",
       "    </tr>\n",
       "    <tr>\n",
       "      <th>3</th>\n",
       "      <td>0.767372</td>\n",
       "      <td>0.819151</td>\n",
       "      <td>0.846845</td>\n",
       "    </tr>\n",
       "    <tr>\n",
       "      <th>4</th>\n",
       "      <td>0.760154</td>\n",
       "      <td>0.813025</td>\n",
       "      <td>0.845082</td>\n",
       "    </tr>\n",
       "  </tbody>\n",
       "</table>\n",
       "</div>"
      ],
      "text/plain": [
       "         LR        RF        NN\n",
       "0  0.761413  0.814871  0.849950\n",
       "1  0.755791  0.807066  0.844243\n",
       "2  0.763008  0.819990  0.849782\n",
       "3  0.767372  0.819151  0.846845\n",
       "4  0.760154  0.813025  0.845082"
      ]
     },
     "execution_count": 22,
     "metadata": {},
     "output_type": "execute_result"
    }
   ],
   "source": [
    "from utilities.preprocessing import slice_best_features\n",
    "\n",
    "to_keep = 87\n",
    "\n",
    "baselines(\n",
    "    PREPROCESSING_PATH / pathlib.Path(f\"important_{to_keep}.csv\"),\n",
    "    slice_best_features(X, best_features, to_keep),\n",
    "    y,\n",
    "    cv=5,\n",
    "    random_state=SEED,\n",
    ")"
   ]
  },
  {
   "cell_type": "code",
   "execution_count": 23,
   "metadata": {},
   "outputs": [
    {
     "name": "stderr",
     "output_type": "stream",
     "text": [
      "Results stored, retrieving...\n"
     ]
    },
    {
     "data": {
      "text/html": [
       "<div>\n",
       "<style scoped>\n",
       "    .dataframe tbody tr th:only-of-type {\n",
       "        vertical-align: middle;\n",
       "    }\n",
       "\n",
       "    .dataframe tbody tr th {\n",
       "        vertical-align: top;\n",
       "    }\n",
       "\n",
       "    .dataframe thead th {\n",
       "        text-align: right;\n",
       "    }\n",
       "</style>\n",
       "<table border=\"1\" class=\"dataframe\">\n",
       "  <thead>\n",
       "    <tr style=\"text-align: right;\">\n",
       "      <th></th>\n",
       "      <th>LR</th>\n",
       "      <th>RF</th>\n",
       "      <th>NN</th>\n",
       "    </tr>\n",
       "  </thead>\n",
       "  <tbody>\n",
       "    <tr>\n",
       "      <th>0</th>\n",
       "      <td>0.752685</td>\n",
       "      <td>0.814619</td>\n",
       "      <td>0.847852</td>\n",
       "    </tr>\n",
       "    <tr>\n",
       "      <th>1</th>\n",
       "      <td>0.750671</td>\n",
       "      <td>0.808996</td>\n",
       "      <td>0.842145</td>\n",
       "    </tr>\n",
       "    <tr>\n",
       "      <th>2</th>\n",
       "      <td>0.753357</td>\n",
       "      <td>0.815710</td>\n",
       "      <td>0.845418</td>\n",
       "    </tr>\n",
       "    <tr>\n",
       "      <th>3</th>\n",
       "      <td>0.758980</td>\n",
       "      <td>0.815542</td>\n",
       "      <td>0.844075</td>\n",
       "    </tr>\n",
       "    <tr>\n",
       "      <th>4</th>\n",
       "      <td>0.753441</td>\n",
       "      <td>0.811010</td>\n",
       "      <td>0.840131</td>\n",
       "    </tr>\n",
       "  </tbody>\n",
       "</table>\n",
       "</div>"
      ],
      "text/plain": [
       "         LR        RF        NN\n",
       "0  0.752685  0.814619  0.847852\n",
       "1  0.750671  0.808996  0.842145\n",
       "2  0.753357  0.815710  0.845418\n",
       "3  0.758980  0.815542  0.844075\n",
       "4  0.753441  0.811010  0.840131"
      ]
     },
     "execution_count": 23,
     "metadata": {},
     "output_type": "execute_result"
    }
   ],
   "source": [
    "from utilities.preprocessing import slice_best_features\n",
    "\n",
    "to_keep = 50\n",
    "\n",
    "baselines(\n",
    "    PREPROCESSING_PATH / pathlib.Path(f\"important_{to_keep}.csv\"),\n",
    "    slice_best_features(X, best_features, to_keep),\n",
    "    y,\n",
    "    cv=5,\n",
    "    random_state=SEED,\n",
    ")"
   ]
  },
  {
   "cell_type": "markdown",
   "metadata": {},
   "source": [
    "Features from (approximately) `50` to `96` seems to give varying, yet high quality results. \n",
    "\n",
    "I will ensemble datasets from up to `96` features in the `predict` notebook."
   ]
  },
  {
   "cell_type": "markdown",
   "metadata": {},
   "source": [
    "## Higher order features\n",
    "\n",
    "One can improve classification power using polynomial features as well (though such naive scheme is unlikely to be helpful in case of ANNs).\n",
    "\n",
    "To get a sense how well our classification performs, I will use second order features using `30` best features found:"
   ]
  },
  {
   "cell_type": "code",
   "execution_count": 24,
   "metadata": {},
   "outputs": [
    {
     "name": "stderr",
     "output_type": "stream",
     "text": [
      "Results stored, retrieving...\n"
     ]
    },
    {
     "data": {
      "text/html": [
       "<div>\n",
       "<style scoped>\n",
       "    .dataframe tbody tr th:only-of-type {\n",
       "        vertical-align: middle;\n",
       "    }\n",
       "\n",
       "    .dataframe tbody tr th {\n",
       "        vertical-align: top;\n",
       "    }\n",
       "\n",
       "    .dataframe thead th {\n",
       "        text-align: right;\n",
       "    }\n",
       "</style>\n",
       "<table border=\"1\" class=\"dataframe\">\n",
       "  <thead>\n",
       "    <tr style=\"text-align: right;\">\n",
       "      <th></th>\n",
       "      <th>LR</th>\n",
       "      <th>RF</th>\n",
       "      <th>NN</th>\n",
       "    </tr>\n",
       "  </thead>\n",
       "  <tbody>\n",
       "    <tr>\n",
       "      <th>0</th>\n",
       "      <td>0.730195</td>\n",
       "      <td>0.809584</td>\n",
       "      <td>0.835347</td>\n",
       "    </tr>\n",
       "    <tr>\n",
       "      <th>1</th>\n",
       "      <td>0.725327</td>\n",
       "      <td>0.802534</td>\n",
       "      <td>0.829221</td>\n",
       "    </tr>\n",
       "    <tr>\n",
       "      <th>2</th>\n",
       "      <td>0.735146</td>\n",
       "      <td>0.813025</td>\n",
       "      <td>0.831235</td>\n",
       "    </tr>\n",
       "    <tr>\n",
       "      <th>3</th>\n",
       "      <td>0.739426</td>\n",
       "      <td>0.807654</td>\n",
       "      <td>0.833921</td>\n",
       "    </tr>\n",
       "    <tr>\n",
       "      <th>4</th>\n",
       "      <td>0.735230</td>\n",
       "      <td>0.804716</td>\n",
       "      <td>0.827375</td>\n",
       "    </tr>\n",
       "  </tbody>\n",
       "</table>\n",
       "</div>"
      ],
      "text/plain": [
       "         LR        RF        NN\n",
       "0  0.730195  0.809584  0.835347\n",
       "1  0.725327  0.802534  0.829221\n",
       "2  0.735146  0.813025  0.831235\n",
       "3  0.739426  0.807654  0.833921\n",
       "4  0.735230  0.804716  0.827375"
      ]
     },
     "execution_count": 24,
     "metadata": {},
     "output_type": "execute_result"
    }
   ],
   "source": [
    "from utilities.preprocessing import slice_best_features\n",
    "\n",
    "to_keep = 30\n",
    "sliced_X = slice_best_features(X, best_features, to_keep)\n",
    "\n",
    "baselines(\n",
    "    PREPROCESSING_PATH / pathlib.Path(f\"important_{to_keep}.csv\"),\n",
    "    sliced_X,\n",
    "    y,\n",
    "    cv=5,\n",
    "    random_state=SEED,\n",
    ")"
   ]
  },
  {
   "cell_type": "code",
   "execution_count": 25,
   "metadata": {},
   "outputs": [
    {
     "data": {
      "text/plain": [
       "(59580, 495)"
      ]
     },
     "execution_count": 25,
     "metadata": {},
     "output_type": "execute_result"
    }
   ],
   "source": [
    "from sklearn.preprocessing import PolynomialFeatures\n",
    "\n",
    "feature_creator = PolynomialFeatures(degree=2, include_bias=False)\n",
    "polynomial_data = feature_creator.fit_transform(sliced_X)\n",
    "\n",
    "polynomial_data.shape"
   ]
  },
  {
   "cell_type": "code",
   "execution_count": 26,
   "metadata": {},
   "outputs": [
    {
     "name": "stderr",
     "output_type": "stream",
     "text": [
      "Results stored, retrieving...\n"
     ]
    },
    {
     "data": {
      "text/html": [
       "<div>\n",
       "<style scoped>\n",
       "    .dataframe tbody tr th:only-of-type {\n",
       "        vertical-align: middle;\n",
       "    }\n",
       "\n",
       "    .dataframe tbody tr th {\n",
       "        vertical-align: top;\n",
       "    }\n",
       "\n",
       "    .dataframe thead th {\n",
       "        text-align: right;\n",
       "    }\n",
       "</style>\n",
       "<table border=\"1\" class=\"dataframe\">\n",
       "  <thead>\n",
       "    <tr style=\"text-align: right;\">\n",
       "      <th></th>\n",
       "      <th>LR</th>\n",
       "      <th>RF</th>\n",
       "      <th>NN</th>\n",
       "    </tr>\n",
       "  </thead>\n",
       "  <tbody>\n",
       "    <tr>\n",
       "      <th>0</th>\n",
       "      <td>0.822172</td>\n",
       "      <td>0.810339</td>\n",
       "      <td>0.830648</td>\n",
       "    </tr>\n",
       "    <tr>\n",
       "      <th>1</th>\n",
       "      <td>0.822256</td>\n",
       "      <td>0.794982</td>\n",
       "      <td>0.821249</td>\n",
       "    </tr>\n",
       "    <tr>\n",
       "      <th>2</th>\n",
       "      <td>0.819990</td>\n",
       "      <td>0.811094</td>\n",
       "      <td>0.833333</td>\n",
       "    </tr>\n",
       "    <tr>\n",
       "      <th>3</th>\n",
       "      <td>0.820577</td>\n",
       "      <td>0.808493</td>\n",
       "      <td>0.826452</td>\n",
       "    </tr>\n",
       "    <tr>\n",
       "      <th>4</th>\n",
       "      <td>0.823095</td>\n",
       "      <td>0.804045</td>\n",
       "      <td>0.825109</td>\n",
       "    </tr>\n",
       "  </tbody>\n",
       "</table>\n",
       "</div>"
      ],
      "text/plain": [
       "         LR        RF        NN\n",
       "0  0.822172  0.810339  0.830648\n",
       "1  0.822256  0.794982  0.821249\n",
       "2  0.819990  0.811094  0.833333\n",
       "3  0.820577  0.808493  0.826452\n",
       "4  0.823095  0.804045  0.825109"
      ]
     },
     "execution_count": 26,
     "metadata": {},
     "output_type": "execute_result"
    }
   ],
   "source": [
    "baselines(\n",
    "    PREPROCESSING_PATH / pathlib.Path(\"polynomial.csv\"),\n",
    "    polynomial_data,\n",
    "    y,\n",
    "    cv=5,\n",
    "    random_state=SEED,\n",
    ")"
   ]
  },
  {
   "cell_type": "markdown",
   "metadata": {},
   "source": [
    "Second order features harmed neural network's performance (probably due to noise added)."
   ]
  },
  {
   "cell_type": "markdown",
   "metadata": {},
   "source": [
    "# Save data after preprocessing\n",
    "\n",
    "Two approaches yielded improvement, namely:\n",
    "- Best feature selection\n",
    "- Removing low variance features\n",
    "\n",
    "Those two will be saved, both keeping `96` most important features.\n",
    "\n",
    "Due to empirical experiments, feature count `50` up to `96` will be used for training (similar method to `RandomForest` technique), while validation dataset of size `20%` will be used as a bagging part.\n",
    "\n",
    "Both dataset are saved below:"
   ]
  },
  {
   "cell_type": "code",
   "execution_count": 33,
   "metadata": {},
   "outputs": [],
   "source": [
    "best_features_algorithmic = slice_best_features(X, best_features, 96)\n",
    "\n",
    "threshold = VarianceThreshold(0.05)\n",
    "best_features_variance = pd.DataFrame(threshold.fit_transform(X))\n",
    "\n",
    "best_features_algorithmic.to_csv(PREPROCESSING_PATH / pathlib.Path(\"algorithmic_data.csv\"))\n",
    "best_features_variance.to_csv(PREPROCESSING_PATH / pathlib.Path(\"variance_data.csv\"))"
   ]
  },
  {
   "cell_type": "markdown",
   "metadata": {},
   "source": [
    "### Removing outliers\n",
    "\n",
    "Outlier detection might help model's generalization. There are no outliers in this data as it's artificially generated from Gaussian Distributions, I didn't check it all in all but function is ready and should be working fine.\n"
   ]
  },
  {
   "cell_type": "code",
   "execution_count": 28,
   "metadata": {},
   "outputs": [],
   "source": [
    "# It might be used I guess\n",
    "from utilities.preprocessing import find_outliers"
   ]
  }
 ],
 "metadata": {
  "kernelspec": {
   "display_name": "Python 3",
   "language": "python",
   "name": "python3"
  },
  "language_info": {
   "codemirror_mode": {
    "name": "ipython",
    "version": 3
   },
   "file_extension": ".py",
   "mimetype": "text/x-python",
   "name": "python",
   "nbconvert_exporter": "python",
   "pygments_lexer": "ipython3",
   "version": "3.7.1"
  }
 },
 "nbformat": 4,
 "nbformat_minor": 2
}
