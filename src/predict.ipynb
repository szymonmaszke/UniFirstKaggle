{
 "cells": [
  {
   "cell_type": "markdown",
   "metadata": {},
   "source": [
    "# Ensembling predictions and generating submissions\n",
    "\n",
    "Traditionally, let's load predictions of multiple models and create `SUBMISSIONS_PATH` if it does not exist:"
   ]
  },
  {
   "cell_type": "code",
   "execution_count": 1,
   "metadata": {},
   "outputs": [],
   "source": [
    "import pathlib\n",
    "\n",
    "import numpy as np\n",
    "import pandas as pd\n",
    "\n",
    "import matplotlib.pyplot as plt\n",
    "%matplotlib inline  \n",
    "\n",
    "# Where single model predictions are stored\n",
    "PREDICTIONS_PATH = pathlib.Path(\"../predictions\")\n",
    "\n",
    "# Submissions and logits from ensembles will be stored\n",
    "SUBMISSIONS_PATH = pathlib.Path(\"../submissions\")\n",
    "SUBMISSIONS_PATH.mkdir(parents=True, exist_ok=True)"
   ]
  },
  {
   "cell_type": "markdown",
   "metadata": {},
   "source": [
    "# Ensembling predictions\n",
    "\n",
    "Below ensembling method adds logits of all classifiers (multiplied by their validation score) and calculates `np.argmax` to make prediction.\n",
    "\n",
    "Each predictions is timestamped and shows how many models were used to make a prediction.\n",
    "\n",
    "Furthermore, logits are returned so we can analyze it further.\n",
    "\n",
    "Threshold `0.85` was found to yield best results experimentally (and somewhat counterintuitive)."
   ]
  },
  {
   "cell_type": "code",
   "execution_count": 2,
   "metadata": {},
   "outputs": [
    {
     "name": "stdout",
     "output_type": "stream",
     "text": [
      "[1031  984 1000  999 1045 1003  921 1005 1010 1002]\n"
     ]
    }
   ],
   "source": [
    "from utilities.predicting import ensemble_submission\n",
    "\n",
    "logits = ensemble_submission(\n",
    "    10000, 10, PREDICTIONS_PATH, SUBMISSIONS_PATH, threshold=0.85, weighted=True\n",
    ")\n",
    "\n",
    "predictions = np.argmax(logits, axis=1)\n",
    "_, predictions_counts = np.unique(predictions, return_counts = True)\n",
    "\n",
    "print(predictions_counts)"
   ]
  },
  {
   "cell_type": "markdown",
   "metadata": {},
   "source": [
    "In general, the more uniform predictions, the better might the submission be (as test set is probably uniformly distributed as well, don't do it next time please).\n",
    "\n",
    "Though it's only a rough estimate, it helps in discounting most pointless submissions so one does not lose too many chances."
   ]
  },
  {
   "cell_type": "code",
   "execution_count": 3,
   "metadata": {},
   "outputs": [
    {
     "name": "stdout",
     "output_type": "stream",
     "text": [
      "192\n"
     ]
    },
    {
     "data": {
      "image/png": "[encoded data removed]",
      "text/plain": [
       "<Figure size 432x288 with 1 Axes>"
      ]
     },
     "metadata": {
      "needs_background": "light"
     },
     "output_type": "display_data"
    }
   ],
   "source": [
    "import seaborn as sns\n",
    "\n",
    "sns.countplot(predictions)\n",
    "\n",
    "print(f\"Under/overpredicted: {np.sum(np.abs(predictions_counts - 1000))}\")"
   ]
  }
 ],
 "metadata": {
  "kernelspec": {
   "display_name": "Python 3",
   "language": "python",
   "name": "python3"
  },
  "language_info": {
   "codemirror_mode": {
    "name": "ipython",
    "version": 3
   },
   "file_extension": ".py",
   "mimetype": "text/x-python",
   "name": "python",
   "nbconvert_exporter": "python",
   "pygments_lexer": "ipython3",
   "version": "3.7.1"
  }
 },
 "nbformat": 4,
 "nbformat_minor": 2
}
